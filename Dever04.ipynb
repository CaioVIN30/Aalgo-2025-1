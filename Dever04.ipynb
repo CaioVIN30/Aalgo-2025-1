{
  "nbformat": 4,
  "nbformat_minor": 0,
  "metadata": {
    "colab": {
      "provenance": [],
      "authorship_tag": "ABX9TyOPFAvcjhB9o1FnlfUE6KOi",
      "include_colab_link": true
    },
    "kernelspec": {
      "name": "python3",
      "display_name": "Python 3"
    },
    "language_info": {
      "name": "python"
    }
  },
  "cells": [
    {
      "cell_type": "markdown",
      "metadata": {
        "id": "view-in-github",
        "colab_type": "text"
      },
      "source": [
        "<a href=\"https://colab.research.google.com/github/CaioVIN30/Aalgo-2025-1/blob/main/Dever04.ipynb\" target=\"_parent\"><img src=\"https://colab.research.google.com/assets/colab-badge.svg\" alt=\"Open In Colab\"/></a>"
      ]
    },
    {
      "cell_type": "code",
      "execution_count": 1,
      "metadata": {
        "colab": {
          "base_uri": "https://localhost:8080/"
        },
        "id": "NTwXi_R5VlYy",
        "outputId": "99c5949c-d68f-4caa-98c1-3f3defefdbfd"
      },
      "outputs": [
        {
          "output_type": "stream",
          "name": "stdout",
          "text": [
            "Digite um numero: 5\n",
            "F(n)) = 157\n"
          ]
        }
      ],
      "source": [
        "import math\n",
        "\n",
        "def Funcao_recursiva(n):\n",
        "\n",
        "    if n == 1:\n",
        "        return 2\n",
        "    return 2 * Funcao_recursiva(n - 1) + n**2\n",
        "\n",
        "n = int(input(\"Digite um numero: \"))\n",
        "resultado = Funcao_recursiva(n)\n",
        "\n",
        "print(f\"F(n)) = {resultado}\" )"
      ]
    }
  ]
}