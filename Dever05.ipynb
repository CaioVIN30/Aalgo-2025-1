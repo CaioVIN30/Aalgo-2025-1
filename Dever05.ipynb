{
  "nbformat": 4,
  "nbformat_minor": 0,
  "metadata": {
    "colab": {
      "provenance": [],
      "authorship_tag": "ABX9TyNazRvtJiJUBytvw2Wn7Pkd",
      "include_colab_link": true
    },
    "kernelspec": {
      "name": "python3",
      "display_name": "Python 3"
    },
    "language_info": {
      "name": "python"
    }
  },
  "cells": [
    {
      "cell_type": "markdown",
      "metadata": {
        "id": "view-in-github",
        "colab_type": "text"
      },
      "source": [
        "<a href=\"https://colab.research.google.com/github/CaioVIN30/Aalgo-2025-1/blob/main/Dever05.ipynb\" target=\"_parent\"><img src=\"https://colab.research.google.com/assets/colab-badge.svg\" alt=\"Open In Colab\"/></a>"
      ]
    },
    {
      "cell_type": "code",
      "execution_count": 1,
      "metadata": {
        "colab": {
          "base_uri": "https://localhost:8080/"
        },
        "id": "zaNROd-kjhn0",
        "outputId": "34d56f01-da28-40b2-9f8e-c9c0ad25f3a0"
      },
      "outputs": [
        {
          "output_type": "stream",
          "name": "stdout",
          "text": [
            "Merge Sort para n=8:\n",
            "Operações totais: 24 (teoria O(n log n) = 24)\n",
            "Profundidade recursiva: 3 ≈ log₂8 = 3\n",
            "\n"
          ]
        }
      ],
      "source": [
        "def merge_sort_complexity(n):\n",
        "\n",
        "    if n <= 1:\n",
        "        return (0, 0)\n",
        "\n",
        "    # Divisão\n",
        "    left_ops, left_log = merge_sort_complexity(n // 2)\n",
        "    right_ops, right_log = merge_sort_complexity(n // 2)\n",
        "\n",
        "    # Conquista (merge) - O(n) operações\n",
        "    merge_ops = n\n",
        "    total_ops = left_ops + right_ops + merge_ops\n",
        "    total_log = max(left_log, right_log) + 1\n",
        "\n",
        "    return (total_ops, total_log)\n",
        "\n",
        "# Exemplo para n=8\n",
        "n = 8\n",
        "ops, log_n = merge_sort_complexity(n)\n",
        "print(f\"Merge Sort para n={n}:\")\n",
        "print(f\"Operações totais: {ops} (teoria O(n log n) = {n * (n.bit_length()-1)})\")\n",
        "print(f\"Profundidade recursiva: {log_n} ≈ log₂{n} = {(n-1).bit_length()}\\n\")"
      ]
    },
    {
      "cell_type": "code",
      "source": [
        "def matrix_mult_complexity(n, method='naive'):\n",
        "\n",
        "    if method == 'naive':\n",
        "        return n ** 3  # O(n³)\n",
        "    elif method == 'strassen':\n",
        "        # Aproximação do algoritmo de Strassen: O(n^log2(7)) ≈ O(n^2.807)\n",
        "        from math import log2\n",
        "        return n ** (log2(7))\n",
        "\n",
        "# Exemplo\n",
        "n = 4\n",
        "print(f\"Multiplicação de matrizes {n}×{n}:\")\n",
        "print(f\"Algoritmo ingênuo: {matrix_mult_complexity(n)} operações (O(n³))\")\n",
        "print(f\"Algoritmo de Strassen: {int(matrix_mult_complexity(n, 'strassen'))} operações (O(n^2.807))\\n\")"
      ],
      "metadata": {
        "colab": {
          "base_uri": "https://localhost:8080/"
        },
        "id": "f7KjHptHkuwt",
        "outputId": "c1fb6729-a500-4853-fc08-03a861227f56"
      },
      "execution_count": 2,
      "outputs": [
        {
          "output_type": "stream",
          "name": "stdout",
          "text": [
            "Multiplicação de matrizes 4×4:\n",
            "Algoritmo ingênuo: 64 operações (O(n³))\n",
            "Algoritmo de Strassen: 49 operações (O(n^2.807))\n",
            "\n"
          ]
        }
      ]
    },
    {
      "cell_type": "code",
      "source": [
        "def master_theorem(a, b, f_n, case_details=False):\n",
        "\n",
        "    from math import log\n",
        "\n",
        "    log_b_a = log(a, b)\n",
        "    n_pow = f_n.__name__  # Extrai o expoente de f(n)\n",
        "\n",
        "    # Caso 1: f(n) = O(n^(log_b a - ε)) para ε > 0\n",
        "    if f_n(2) < (2 ** log_b_a) * 0.9:  # Teste simplificado\n",
        "        if case_details:\n",
        "            print(f\"Caso 1: f(n) = O(n^{log_b_a - 0.1})\")\n",
        "        return f\"Θ(n^{log_b_a})\"\n",
        "\n",
        "    # Caso 2: f(n) = Θ(n^(log_b a))\n",
        "    elif abs(f_n(2) - (2 ** log_b_a)) < 0.1 * (2 ** log_b_a):  # Teste simplificado\n",
        "        if case_details:\n",
        "            print(f\"Caso 2: f(n) = Θ(n^{log_b_a})\")\n",
        "        return f\"Θ(n^{log_b_a} log n)\"\n",
        "\n",
        "    # Caso 3: f(n) = Ω(n^(log_b a + ε)) e af(n/b) ≤ cf(n)\n",
        "    else:\n",
        "        if case_details:\n",
        "            print(f\"Caso 3: f(n) = Ω(n^{log_b_a + 0.1})\")\n",
        "        return f\"Θ(f(n)) = Θ({f_n.__name__})\"\n",
        "\n",
        "# Funções para representar f(n)\n",
        "def sqrt_n(n):\n",
        "    return n ** 0.5\n",
        "\n",
        "def linear(n):\n",
        "    return n\n",
        "\n",
        "def quadratic(n):\n",
        "    return n ** 2\n",
        "\n",
        "# Resolvendo as recorrências do exercício\n",
        "print(\"Resolução de recorrências:\")\n",
        "print(\"a) T(n) = 2T(n/4) + √n\")\n",
        "print(\"   Resultado:\", master_theorem(2, 4, sqrt_n, True))\n",
        "\n",
        "print(\"\\nb) T(n) = 2T(n/4) + n\")\n",
        "print(\"   Resultado:\", master_theorem(2, 4, linear, True))\n",
        "\n",
        "print(\"\\nc) T(n) = 16T(n/4) + n²\")\n",
        "print(\"   Resultado:\", master_theorem(16, 4, quadratic, True))"
      ],
      "metadata": {
        "colab": {
          "base_uri": "https://localhost:8080/"
        },
        "id": "wvVk2aDik6EF",
        "outputId": "f82be11a-f6c3-41a9-fe24-f99ef35e327a"
      },
      "execution_count": 3,
      "outputs": [
        {
          "output_type": "stream",
          "name": "stdout",
          "text": [
            "Resolução de recorrências:\n",
            "a) T(n) = 2T(n/4) + √n\n",
            "Caso 2: f(n) = Θ(n^0.5)\n",
            "   Resultado: Θ(n^0.5 log n)\n",
            "\n",
            "b) T(n) = 2T(n/4) + n\n",
            "Caso 3: f(n) = Ω(n^0.6)\n",
            "   Resultado: Θ(f(n)) = Θ(linear)\n",
            "\n",
            "c) T(n) = 16T(n/4) + n²\n",
            "Caso 2: f(n) = Θ(n^2.0)\n",
            "   Resultado: Θ(n^2.0 log n)\n"
          ]
        }
      ]
    }
  ]
}